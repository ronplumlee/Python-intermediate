{
 "cells": [
  {
   "attachments": {},
   "cell_type": "markdown",
   "id": "db67f7c8-7fbb-473f-b3d7-47bd79c53550",
   "metadata": {},
   "source": [
    "# Basic Package Manager Skills\n",
    "\n",
    "## Conda Skills\n",
    "\n",
    "https://conda.io/projects/conda/en/latest/user-guide/getting-started.html# \n",
    "\n",
    "https://docs.conda.io/projects/conda/en/latest/user-guide/cheatsheet.html \n",
    "\n",
    "```conda```\n",
    "\n",
    "```conda --version```\n",
    "\n",
    "```conda create -n snowflake python=3.9```\n",
    "\n",
    "```conda activate snowflake```\n",
    "\n",
    "```conda install -c CHANNELNAME PKG1 PKG2```\n",
    "\n",
    "```conda install PKG1 PKG2 PKG3```\n",
    "\n",
    "```conda deactivate```\n",
    "\n",
    "```conda list```\n",
    "\n",
    "```conda env list```"
   ]
  },
  {
   "attachments": {},
   "cell_type": "markdown",
   "id": "943b77ca",
   "metadata": {},
   "source": [
    "## PIP Basic Skills\n",
    "\n",
    "https://www.geeksforgeeks.org/python-pip/\n",
    "\n",
    "\n",
    "```python -m pip install sampleproject``` - install a package\n",
    "\n",
    "```pip install sampleproject``` - install a package\n",
    "\n",
    "```python -m pip uninstall sampleproject``` - uninstall a package\n",
    "\n",
    "```pip uninstall sampleproject``` - uninstall a package\n",
    "\n",
    "```python -m pip install --upgrade sampleproject``` - uninstall a package\n",
    "\n",
    "```pip install --upgrade sampleproject``` - upgrade a specific package\n",
    "\n",
    "```pip list``` - list all the Python packages installed\n",
    "\n",
    "```pip search numpy``` - search whether a specific package has been installed\n",
    "\n"
   ]
  }
 ],
 "metadata": {
  "kernelspec": {
   "display_name": "Python 3",
   "language": "python",
   "name": "python3"
  },
  "language_info": {
   "codemirror_mode": {
    "name": "ipython",
    "version": 3
   },
   "file_extension": ".py",
   "mimetype": "text/x-python",
   "name": "python",
   "nbconvert_exporter": "python",
   "pygments_lexer": "ipython3",
   "version": "3.9.1 (default, Dec 10 2020, 10:36:35) \n[Clang 12.0.0 (clang-1200.0.32.27)]"
  },
  "vscode": {
   "interpreter": {
    "hash": "aee8b7b246df8f9039afb4144a1f6fd8d2ca17a180786b69acc140d282b71a49"
   }
  }
 },
 "nbformat": 4,
 "nbformat_minor": 5
}
