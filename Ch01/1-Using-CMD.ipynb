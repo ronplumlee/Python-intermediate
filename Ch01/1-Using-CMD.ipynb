{
 "cells": [
  {
   "attachments": {},
   "cell_type": "markdown",
   "id": "ac3435eb-c05e-4ccf-bad1-06bbd736fa5e",
   "metadata": {},
   "source": [
    "# Basic Windows Command Line Skills\n",
    "\n",
    "For more detail:\n",
    "\n",
    "https://ss64.com/nt/"
   ]
  },
  {
   "cell_type": "markdown",
   "id": "284a10a3-5fe0-4523-a71b-24f35027d164",
   "metadata": {},
   "source": [
    "## Start the Windows Command Line \n",
    "\n",
    "Access the following from your keyboard. \n",
    "\n",
    "\n",
    "Windows button > type ```CMD``` in the Windows search box > the press enter.  \n",
    "\n",
    "\n",
    "CMD can be spelled using lowercase letters.\n",
    "\n",
    "Notice what is your starting directory"
   ]
  },
  {
   "cell_type": "markdown",
   "id": "e24078d6-6f09-43d2-ad8a-0d3c0b9dcf97",
   "metadata": {},
   "source": [
    "## File Names and Folder Names\n",
    "\n",
    "Typically file names have two parts: (1) the base name, and (2) the extension.\n",
    "\n",
    "```myfilename.ext``` - *myfilename* is the base name, and *ext* is the extension.\n",
    "\n",
    "Folder names normally use only a base name, but folders can have both a base name and extension.\n"
   ]
  },
  {
   "cell_type": "markdown",
   "id": "6ea9d021-de4d-403d-80b3-2db9ffb74c4a",
   "metadata": {},
   "source": [
    "## Change Drives\n",
    "\n",
    "```d:``` - changes to drive d: if it exists. This may be a separate partition on the computer, USB memory or an SD Card.\n",
    "\n",
    "```c:``` - changes to drive c:, this is typically the drive where Windows is installed"
   ]
  },
  {
   "cell_type": "markdown",
   "id": "9c46a608-8d49-443c-854a-4b070882bb21",
   "metadata": {
    "jupyter": {
     "outputs_hidden": true
    },
    "tags": []
   },
   "source": [
    "## Searching for files and directories\n",
    "\n",
    "```help dir``` Displays the help documentation for the directory command.\n",
    "\n",
    "```dir``` Displays a list of files and subdirectories in a directory.\n",
    "\n",
    "```dir *.* ```   - list all file and folders in the current directory\n",
    "\n",
    "```dir *.txt ```  - list all files with the extension txt\n",
    "\n",
    "```dir g*.py ```  - list all Python files that start with the letter g\n",
    "\n",
    "```dir /ad ``` - list all the directories in the current folder.\n",
    "\n",
    "```dir /ad > folders.txt``` - list all the directories in the current folder and save this to the text file \"folders.txt\"\n",
    "\n",
    "```dir /ad /s``` - list all the directories and subdirectories in the current folder."
   ]
  },
  {
   "cell_type": "markdown",
   "id": "ef70ed21-572b-45cd-996d-cf1d9117475c",
   "metadata": {},
   "source": [
    "## Change the current directory\n",
    "\n",
    "Directories (Folders) are in a parent-child relationship.  Folders that contain other folders are the parent folder.  Child folders are located in parent folders.\n",
    "\n",
    "```cd subdirectory-name-or-path-to-folder```\n",
    "\n",
    "```help cd``` - shows help documentation for the cd command\n",
    "\n",
    "```cd``` - returns the absolute path for the current directory\n",
    "\n",
    "```cd c:\\users\\john\\anaconda3``` - change directory using the absolute path location\n",
    "\n",
    "```cd anaconda3``` - change directory using the relative path location\n",
    "\n",
    "```cd ..``` - change directory to the parent directory (if it exists) \n",
    "\n",
    "```cd ..\\..``` - change directory to the parent's parent directory\n",
    "\n"
   ]
  },
  {
   "cell_type": "markdown",
   "id": "9f8ab6b9-1978-4aef-9a0f-45ce11cb4aa4",
   "metadata": {},
   "source": [
    "## Make a directory or Delete (Remove) a directory\n",
    "\n",
    "```mkdir  new-directory-name```\n",
    "\n",
    "```rmdir name-of-directory-to-remove```\n",
    "\n",
    "```help mkdir``` - display help documentation for the make directory command\n",
    "\n",
    "```mkdir temp``` - create a child folder in the current directory\n",
    "\n",
    "```mkdir c:\\users\\john\\temp``` - create a directory using the absolute path location\n",
    "\n",
    "```help rmdir``` - display help documentation for the remove (delete) directory command\n",
    "\n",
    "**Important** - to remove a directory all the files must be in that directory must be deleted first\n",
    "\n",
    "\n",
    "Step 1 ```dir directory-name-or-path /s /b``` - list the files, including files in subdirectories, to check whether any should be kept\n",
    "\n",
    "Step 2 ```del directory-name-or-path /s /q``` - delete all the files in the current directory and subdirectories\n",
    "\n",
    "Step 3 ```rmdir directory-name-or-path /s /q``` - with all the files removed, the directory and subdirectories can be removed"
   ]
  },
  {
   "cell_type": "markdown",
   "id": "d2b6d5b3-0682-40fd-9c23-156770865661",
   "metadata": {},
   "source": [
    "## Display a tree of your directory\n",
    "\n",
    "```help tree``` - display help documentation for the directory tree command\n",
    "\n",
    "```tree``` - displays the folders and subfolders in a tree layout format\n",
    "\n",
    "```tree c:\\users\\john``` - displays the directory tree using the absolute path location\n",
    "\n",
    "```tree myproject``` - displays the directory tree using the relative path location\n",
    "\n",
    "```tree myproject /f``` - displays the directory tree and files using the relative path location\n",
    "\n",
    "```tree c:\\users\\john /f > tree.txt``` - saves the directory tree and files to a text file"
   ]
  },
  {
   "cell_type": "markdown",
   "id": "e22340f5-e57d-405f-b939-4dbabeac1718",
   "metadata": {},
   "source": [
    "## Create an text file\n",
    "\n",
    "```echo > test.txt``` - creates an empty text file in the current directory\n",
    "\n",
    "```echo Hello World > temp\\test.txt``` - creates a text file in the subdirectory temp.  The text file will contain \"Hello World\".\n",
    "\n",
    "```echo Hello World 2 > c:\\userstemp\\test.txt``` - creates a text file using the aboslute path.  The text file will contain \"Hello World 2\"."
   ]
  },
  {
   "cell_type": "markdown",
   "id": "f360ec8d-0308-401f-acea-8e34ab3b06f4",
   "metadata": {},
   "source": [
    "## Display the contents of a text file\n",
    "\n",
    "```type test.txt``` - display the contents of the text file in the current directory\n",
    "\n",
    "\n",
    "```type temp\\test.txt``` - dispaly a file in a subdirectory using the relative path\n",
    "\n",
    "\n",
    "```type c:\\users\\john\\temp\\test.txt``` - dispaly a file in a subdirectory using the absolute path"
   ]
  }
 ],
 "metadata": {
  "kernelspec": {
   "display_name": "Python 3",
   "language": "python",
   "name": "python3"
  },
  "language_info": {
   "codemirror_mode": {
    "name": "ipython",
    "version": 3
   },
   "file_extension": ".py",
   "mimetype": "text/x-python",
   "name": "python",
   "nbconvert_exporter": "python",
   "pygments_lexer": "ipython3",
   "version": "3.9.1 (default, Dec 10 2020, 10:36:35) \n[Clang 12.0.0 (clang-1200.0.32.27)]"
  },
  "vscode": {
   "interpreter": {
    "hash": "aee8b7b246df8f9039afb4144a1f6fd8d2ca17a180786b69acc140d282b71a49"
   }
  }
 },
 "nbformat": 4,
 "nbformat_minor": 5
}
